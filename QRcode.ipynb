{
 "cells": [
  {
   "cell_type": "code",
   "execution_count": 1,
   "metadata": {},
   "outputs": [
    {
     "name": "stdout",
     "output_type": "stream",
     "text": [
      "file name king.jpeg\n"
     ]
    }
   ],
   "source": [
    "import qrcode\n",
    "from PIL import Image\n",
    "  \n",
    "qr = qrcode.QRCode(version=1,error_correction=qrcode.constants.ERROR_CORRECT_H,box_size=20,border=4,) \n",
    "a = input(\"enter the input for qrcode :- \")\n",
    "qr.add_data(a) \n",
    "qr.make(fit=True)\n",
    "filename = a+\".jpeg\"\n",
    "a = input(\"enter the color for qrcode :- \")\n",
    "img=qr.make_image(fill_color=a,back_color=\"gray\")\n",
    "print(f\"file name {filename}\")\n",
    "img.save(filename)"
   ]
  }
 ],
 "metadata": {
  "kernelspec": {
   "display_name": "Python 3.10.6 64-bit",
   "language": "python",
   "name": "python3"
  },
  "language_info": {
   "codemirror_mode": {
    "name": "ipython",
    "version": 3
   },
   "file_extension": ".py",
   "mimetype": "text/x-python",
   "name": "python",
   "nbconvert_exporter": "python",
   "pygments_lexer": "ipython3",
   "version": "3.10.6"
  },
  "orig_nbformat": 4,
  "vscode": {
   "interpreter": {
    "hash": "aee8b7b246df8f9039afb4144a1f6fd8d2ca17a180786b69acc140d282b71a49"
   }
  }
 },
 "nbformat": 4,
 "nbformat_minor": 2
}
